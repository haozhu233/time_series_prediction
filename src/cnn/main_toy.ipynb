{
 "cells": [
  {
   "cell_type": "code",
   "execution_count": 1,
   "metadata": {},
   "outputs": [],
   "source": [
    "from trainer import train_test_model"
   ]
  },
  {
   "cell_type": "code",
   "execution_count": 2,
   "metadata": {},
   "outputs": [
    {
     "name": "stdout",
     "output_type": "stream",
     "text": [
      "Epoch 1 / 50, train_loss: 0.0219, train_auroc: 0.513, val_loss: 0.0055, val_auroc: 0.543\n",
      "Epoch 2 / 50, train_loss: 0.0190, train_auroc: 0.796, val_loss: 0.0053, val_auroc: 0.590\n",
      "Epoch 3 / 50, train_loss: 0.0173, train_auroc: 0.903, val_loss: 0.0052, val_auroc: 0.617\n",
      "Epoch 4 / 50, train_loss: 0.0159, train_auroc: 0.941, val_loss: 0.0051, val_auroc: 0.645\n",
      "Epoch 5 / 50, train_loss: 0.0147, train_auroc: 0.967, val_loss: 0.0051, val_auroc: 0.651\n",
      "Epoch 6 / 50, train_loss: 0.0137, train_auroc: 0.982, val_loss: 0.0051, val_auroc: 0.659\n",
      "Epoch 7 / 50, train_loss: 0.0123, train_auroc: 0.993, val_loss: 0.0051, val_auroc: 0.666\n",
      "Epoch 8 / 50, train_loss: 0.0115, train_auroc: 0.995, val_loss: 0.0051, val_auroc: 0.658\n",
      "Epoch 9 / 50, train_loss: 0.0108, train_auroc: 0.997, val_loss: 0.0051, val_auroc: 0.674\n",
      "Epoch 10 / 50, train_loss: 0.0103, train_auroc: 0.998, val_loss: 0.0050, val_auroc: 0.671\n",
      "Epoch 11 / 50, train_loss: 0.0093, train_auroc: 0.999, val_loss: 0.0053, val_auroc: 0.653\n",
      "Epoch 12 / 50, train_loss: 0.0086, train_auroc: 1.000, val_loss: 0.0053, val_auroc: 0.650\n",
      "Epoch 13 / 50, train_loss: 0.0083, train_auroc: 1.000, val_loss: 0.0053, val_auroc: 0.655\n",
      "Epoch 14 / 50, train_loss: 0.0077, train_auroc: 1.000, val_loss: 0.0052, val_auroc: 0.658\n",
      "Epoch 15 / 50, train_loss: 0.0071, train_auroc: 1.000, val_loss: 0.0052, val_auroc: 0.650\n",
      "Epoch 16 / 50, train_loss: 0.0067, train_auroc: 1.000, val_loss: 0.0052, val_auroc: 0.652\n",
      "Epoch 17 / 50, train_loss: 0.0072, train_auroc: 0.999, val_loss: 0.0055, val_auroc: 0.653\n",
      "Epoch 18 / 50, train_loss: 0.0059, train_auroc: 1.000, val_loss: 0.0053, val_auroc: 0.652\n",
      "Epoch 19 / 50, train_loss: 0.0057, train_auroc: 1.000, val_loss: 0.0054, val_auroc: 0.649\n",
      "Epoch 20 / 50, train_loss: 0.0056, train_auroc: 1.000, val_loss: 0.0053, val_auroc: 0.657\n",
      "Epoch 21 / 50, train_loss: 0.0056, train_auroc: 1.000, val_loss: 0.0055, val_auroc: 0.635\n",
      "Epoch 22 / 50, train_loss: 0.0048, train_auroc: 1.000, val_loss: 0.0057, val_auroc: 0.637\n",
      "Epoch 23 / 50, train_loss: 0.0045, train_auroc: 1.000, val_loss: 0.0056, val_auroc: 0.634\n",
      "Epoch 24 / 50, train_loss: 0.0044, train_auroc: 1.000, val_loss: 0.0057, val_auroc: 0.638\n",
      "Epoch 25 / 50, train_loss: 0.0041, train_auroc: 1.000, val_loss: 0.0059, val_auroc: 0.634\n",
      "Epoch 26 / 50, train_loss: 0.0037, train_auroc: 1.000, val_loss: 0.0059, val_auroc: 0.632\n",
      "Epoch 27 / 50, train_loss: 0.0037, train_auroc: 1.000, val_loss: 0.0058, val_auroc: 0.635\n",
      "Epoch 28 / 50, train_loss: 0.0037, train_auroc: 1.000, val_loss: 0.0058, val_auroc: 0.629\n",
      "Epoch 29 / 50, train_loss: 0.0041, train_auroc: 1.000, val_loss: 0.0060, val_auroc: 0.628\n",
      "Epoch 30 / 50, train_loss: 0.0037, train_auroc: 1.000, val_loss: 0.0060, val_auroc: 0.631\n",
      "Epoch 31 / 50, train_loss: 0.0040, train_auroc: 1.000, val_loss: 0.0059, val_auroc: 0.630\n",
      "Epoch 32 / 50, train_loss: 0.0036, train_auroc: 1.000, val_loss: 0.0057, val_auroc: 0.636\n",
      "Epoch 33 / 50, train_loss: 0.0040, train_auroc: 1.000, val_loss: 0.0057, val_auroc: 0.630\n",
      "Epoch 34 / 50, train_loss: 0.0036, train_auroc: 1.000, val_loss: 0.0057, val_auroc: 0.621\n",
      "Epoch 35 / 50, train_loss: 0.0037, train_auroc: 1.000, val_loss: 0.0061, val_auroc: 0.623\n",
      "Epoch 36 / 50, train_loss: 0.0035, train_auroc: 1.000, val_loss: 0.0061, val_auroc: 0.625\n",
      "Epoch 37 / 50, train_loss: 0.0035, train_auroc: 1.000, val_loss: 0.0060, val_auroc: 0.626\n",
      "Epoch 38 / 50, train_loss: 0.0036, train_auroc: 1.000, val_loss: 0.0058, val_auroc: 0.626\n",
      "Epoch 39 / 50, train_loss: 0.0036, train_auroc: 1.000, val_loss: 0.0056, val_auroc: 0.629\n",
      "Epoch 40 / 50, train_loss: 0.0035, train_auroc: 1.000, val_loss: 0.0060, val_auroc: 0.629\n",
      "Epoch 41 / 50, train_loss: 0.0034, train_auroc: 1.000, val_loss: 0.0061, val_auroc: 0.622\n",
      "Epoch 42 / 50, train_loss: 0.0034, train_auroc: 1.000, val_loss: 0.0058, val_auroc: 0.628\n",
      "Epoch 43 / 50, train_loss: 0.0035, train_auroc: 1.000, val_loss: 0.0059, val_auroc: 0.634\n",
      "Epoch 44 / 50, train_loss: 0.0034, train_auroc: 1.000, val_loss: 0.0061, val_auroc: 0.630\n",
      "Epoch 45 / 50, train_loss: 0.0033, train_auroc: 1.000, val_loss: 0.0059, val_auroc: 0.624\n",
      "Epoch 46 / 50, train_loss: 0.0034, train_auroc: 1.000, val_loss: 0.0061, val_auroc: 0.626\n",
      "Epoch 47 / 50, train_loss: 0.0032, train_auroc: 1.000, val_loss: 0.0059, val_auroc: 0.630\n",
      "Epoch 48 / 50, train_loss: 0.0032, train_auroc: 1.000, val_loss: 0.0058, val_auroc: 0.628\n",
      "Epoch 49 / 50, train_loss: 0.0033, train_auroc: 1.000, val_loss: 0.0059, val_auroc: 0.625\n",
      "Epoch 50 / 50, train_loss: 0.0033, train_auroc: 1.000, val_loss: 0.0057, val_auroc: 0.627\n",
      "Test AUROC: 0.705\n"
     ]
    }
   ],
   "source": [
    "model_1, train_results_1, test_results_1 = train_test_model('config_toy_1.json')"
   ]
  },
  {
   "cell_type": "code",
   "execution_count": 3,
   "metadata": {},
   "outputs": [
    {
     "name": "stdout",
     "output_type": "stream",
     "text": [
      "Epoch 1 / 50, train_loss: 0.0224, train_auroc: 0.486, val_loss: 0.0056, val_auroc: 0.486\n",
      "Epoch 2 / 50, train_loss: 0.0193, train_auroc: 0.792, val_loss: 0.0054, val_auroc: 0.545\n",
      "Epoch 3 / 50, train_loss: 0.0173, train_auroc: 0.912, val_loss: 0.0052, val_auroc: 0.574\n",
      "Epoch 4 / 50, train_loss: 0.0157, train_auroc: 0.959, val_loss: 0.0053, val_auroc: 0.590\n",
      "Epoch 5 / 50, train_loss: 0.0142, train_auroc: 0.982, val_loss: 0.0052, val_auroc: 0.606\n",
      "Epoch 6 / 50, train_loss: 0.0130, train_auroc: 0.991, val_loss: 0.0053, val_auroc: 0.604\n",
      "Epoch 7 / 50, train_loss: 0.0118, train_auroc: 0.996, val_loss: 0.0051, val_auroc: 0.622\n",
      "Epoch 8 / 50, train_loss: 0.0107, train_auroc: 0.999, val_loss: 0.0053, val_auroc: 0.609\n",
      "Epoch 9 / 50, train_loss: 0.0099, train_auroc: 0.999, val_loss: 0.0050, val_auroc: 0.624\n",
      "Epoch 10 / 50, train_loss: 0.0089, train_auroc: 1.000, val_loss: 0.0053, val_auroc: 0.627\n",
      "Epoch 11 / 50, train_loss: 0.0083, train_auroc: 1.000, val_loss: 0.0051, val_auroc: 0.622\n",
      "Epoch 12 / 50, train_loss: 0.0077, train_auroc: 1.000, val_loss: 0.0054, val_auroc: 0.627\n",
      "Epoch 13 / 50, train_loss: 0.0072, train_auroc: 1.000, val_loss: 0.0051, val_auroc: 0.629\n",
      "Epoch 14 / 50, train_loss: 0.0065, train_auroc: 1.000, val_loss: 0.0052, val_auroc: 0.631\n",
      "Epoch 15 / 50, train_loss: 0.0062, train_auroc: 1.000, val_loss: 0.0051, val_auroc: 0.630\n",
      "Epoch 16 / 50, train_loss: 0.0056, train_auroc: 1.000, val_loss: 0.0053, val_auroc: 0.632\n",
      "Epoch 17 / 50, train_loss: 0.0053, train_auroc: 1.000, val_loss: 0.0053, val_auroc: 0.632\n",
      "Epoch 18 / 50, train_loss: 0.0048, train_auroc: 1.000, val_loss: 0.0049, val_auroc: 0.637\n",
      "Epoch 19 / 50, train_loss: 0.0045, train_auroc: 1.000, val_loss: 0.0056, val_auroc: 0.635\n",
      "Epoch 20 / 50, train_loss: 0.0044, train_auroc: 1.000, val_loss: 0.0055, val_auroc: 0.630\n",
      "Epoch 21 / 50, train_loss: 0.0040, train_auroc: 1.000, val_loss: 0.0056, val_auroc: 0.635\n",
      "Epoch 22 / 50, train_loss: 0.0038, train_auroc: 1.000, val_loss: 0.0052, val_auroc: 0.634\n",
      "Epoch 23 / 50, train_loss: 0.0035, train_auroc: 1.000, val_loss: 0.0056, val_auroc: 0.626\n",
      "Epoch 24 / 50, train_loss: 0.0032, train_auroc: 1.000, val_loss: 0.0056, val_auroc: 0.642\n",
      "Epoch 25 / 50, train_loss: 0.0031, train_auroc: 1.000, val_loss: 0.0056, val_auroc: 0.641\n",
      "Epoch 26 / 50, train_loss: 0.0031, train_auroc: 1.000, val_loss: 0.0054, val_auroc: 0.640\n",
      "Epoch 27 / 50, train_loss: 0.0029, train_auroc: 1.000, val_loss: 0.0058, val_auroc: 0.633\n",
      "Epoch 28 / 50, train_loss: 0.0029, train_auroc: 1.000, val_loss: 0.0055, val_auroc: 0.640\n",
      "Epoch 29 / 50, train_loss: 0.0030, train_auroc: 1.000, val_loss: 0.0054, val_auroc: 0.637\n",
      "Epoch 30 / 50, train_loss: 0.0029, train_auroc: 1.000, val_loss: 0.0050, val_auroc: 0.632\n",
      "Epoch 31 / 50, train_loss: 0.0030, train_auroc: 1.000, val_loss: 0.0056, val_auroc: 0.639\n",
      "Epoch 32 / 50, train_loss: 0.0029, train_auroc: 1.000, val_loss: 0.0053, val_auroc: 0.639\n",
      "Epoch 33 / 50, train_loss: 0.0028, train_auroc: 1.000, val_loss: 0.0056, val_auroc: 0.640\n",
      "Epoch 34 / 50, train_loss: 0.0028, train_auroc: 1.000, val_loss: 0.0053, val_auroc: 0.641\n",
      "Epoch 35 / 50, train_loss: 0.0028, train_auroc: 1.000, val_loss: 0.0057, val_auroc: 0.639\n",
      "Epoch 36 / 50, train_loss: 0.0029, train_auroc: 1.000, val_loss: 0.0054, val_auroc: 0.638\n",
      "Epoch 37 / 50, train_loss: 0.0028, train_auroc: 1.000, val_loss: 0.0051, val_auroc: 0.637\n",
      "Epoch 38 / 50, train_loss: 0.0029, train_auroc: 1.000, val_loss: 0.0058, val_auroc: 0.637\n",
      "Epoch 39 / 50, train_loss: 0.0028, train_auroc: 1.000, val_loss: 0.0055, val_auroc: 0.637\n",
      "Epoch 40 / 50, train_loss: 0.0026, train_auroc: 1.000, val_loss: 0.0049, val_auroc: 0.638\n",
      "Epoch 41 / 50, train_loss: 0.0027, train_auroc: 1.000, val_loss: 0.0054, val_auroc: 0.635\n",
      "Epoch 42 / 50, train_loss: 0.0027, train_auroc: 1.000, val_loss: 0.0054, val_auroc: 0.639\n",
      "Epoch 43 / 50, train_loss: 0.0030, train_auroc: 1.000, val_loss: 0.0055, val_auroc: 0.634\n",
      "Epoch 44 / 50, train_loss: 0.0028, train_auroc: 1.000, val_loss: 0.0053, val_auroc: 0.639\n",
      "Epoch 45 / 50, train_loss: 0.0027, train_auroc: 1.000, val_loss: 0.0059, val_auroc: 0.624\n",
      "Epoch 46 / 50, train_loss: 0.0028, train_auroc: 1.000, val_loss: 0.0053, val_auroc: 0.632\n",
      "Epoch 47 / 50, train_loss: 0.0027, train_auroc: 1.000, val_loss: 0.0055, val_auroc: 0.639\n",
      "Epoch 48 / 50, train_loss: 0.0027, train_auroc: 1.000, val_loss: 0.0055, val_auroc: 0.633\n",
      "Epoch 49 / 50, train_loss: 0.0026, train_auroc: 1.000, val_loss: 0.0058, val_auroc: 0.632\n",
      "Epoch 50 / 50, train_loss: 0.0026, train_auroc: 1.000, val_loss: 0.0055, val_auroc: 0.637\n",
      "Test AUROC: 0.563\n"
     ]
    }
   ],
   "source": [
    "model_2, train_results_2, test_results_2 = train_test_model('config_toy_2.json')"
   ]
  },
  {
   "cell_type": "code",
   "execution_count": null,
   "metadata": {},
   "outputs": [],
   "source": []
  }
 ],
 "metadata": {
  "kernelspec": {
   "display_name": "dl",
   "language": "python",
   "name": "dl"
  },
  "language_info": {
   "codemirror_mode": {
    "name": "ipython",
    "version": 3
   },
   "file_extension": ".py",
   "mimetype": "text/x-python",
   "name": "python",
   "nbconvert_exporter": "python",
   "pygments_lexer": "ipython3",
   "version": "3.8.6"
  }
 },
 "nbformat": 4,
 "nbformat_minor": 4
}
