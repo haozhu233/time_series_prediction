{
 "cells": [
  {
   "cell_type": "code",
   "execution_count": 2,
   "metadata": {},
   "outputs": [],
   "source": [
    "from trainer import train_test_model"
   ]
  },
  {
   "cell_type": "code",
   "execution_count": 3,
   "metadata": {},
   "outputs": [
    {
     "name": "stdout",
     "output_type": "stream",
     "text": [
      "Epoch 1 / 50, train_loss: 0.0249, train_auroc: 0.511, val_loss: 0.0058, val_auroc: 0.600\n",
      "Epoch 2 / 50, train_loss: 0.0206, train_auroc: 0.723, val_loss: 0.0055, val_auroc: 0.604\n",
      "Epoch 3 / 50, train_loss: 0.0189, train_auroc: 0.810, val_loss: 0.0055, val_auroc: 0.589\n",
      "Epoch 4 / 50, train_loss: 0.0182, train_auroc: 0.849, val_loss: 0.0058, val_auroc: 0.585\n",
      "Epoch 5 / 50, train_loss: 0.0179, train_auroc: 0.869, val_loss: 0.0058, val_auroc: 0.574\n",
      "Epoch 6 / 50, train_loss: 0.0177, train_auroc: 0.885, val_loss: 0.0058, val_auroc: 0.576\n",
      "Epoch 7 / 50, train_loss: 0.0176, train_auroc: 0.893, val_loss: 0.0056, val_auroc: 0.586\n",
      "Epoch 8 / 50, train_loss: 0.0175, train_auroc: 0.907, val_loss: 0.0056, val_auroc: 0.602\n",
      "Epoch 9 / 50, train_loss: 0.0174, train_auroc: 0.915, val_loss: 0.0056, val_auroc: 0.602\n",
      "Epoch 10 / 50, train_loss: 0.0173, train_auroc: 0.920, val_loss: 0.0057, val_auroc: 0.596\n",
      "Epoch 11 / 50, train_loss: 0.0171, train_auroc: 0.924, val_loss: 0.0058, val_auroc: 0.587\n",
      "Epoch 12 / 50, train_loss: 0.0171, train_auroc: 0.923, val_loss: 0.0055, val_auroc: 0.585\n",
      "Epoch 13 / 50, train_loss: 0.0171, train_auroc: 0.926, val_loss: 0.0060, val_auroc: 0.592\n",
      "Epoch 14 / 50, train_loss: 0.0170, train_auroc: 0.926, val_loss: 0.0057, val_auroc: 0.597\n",
      "Epoch 15 / 50, train_loss: 0.0171, train_auroc: 0.926, val_loss: 0.0057, val_auroc: 0.600\n",
      "Epoch 16 / 50, train_loss: 0.0171, train_auroc: 0.930, val_loss: 0.0056, val_auroc: 0.623\n",
      "Epoch 17 / 50, train_loss: 0.0170, train_auroc: 0.930, val_loss: 0.0057, val_auroc: 0.591\n",
      "Epoch 18 / 50, train_loss: 0.0170, train_auroc: 0.930, val_loss: 0.0056, val_auroc: 0.604\n",
      "Epoch 19 / 50, train_loss: 0.0170, train_auroc: 0.930, val_loss: 0.0057, val_auroc: 0.583\n",
      "Epoch 20 / 50, train_loss: 0.0170, train_auroc: 0.929, val_loss: 0.0057, val_auroc: 0.582\n",
      "Epoch 21 / 50, train_loss: 0.0171, train_auroc: 0.929, val_loss: 0.0056, val_auroc: 0.597\n",
      "Epoch 22 / 50, train_loss: 0.0170, train_auroc: 0.930, val_loss: 0.0056, val_auroc: 0.573\n",
      "Epoch 23 / 50, train_loss: 0.0171, train_auroc: 0.930, val_loss: 0.0057, val_auroc: 0.583\n",
      "Epoch 24 / 50, train_loss: 0.0170, train_auroc: 0.929, val_loss: 0.0056, val_auroc: 0.593\n",
      "Epoch 25 / 50, train_loss: 0.0170, train_auroc: 0.929, val_loss: 0.0057, val_auroc: 0.571\n",
      "Epoch 26 / 50, train_loss: 0.0169, train_auroc: 0.932, val_loss: 0.0060, val_auroc: 0.561\n",
      "Epoch 27 / 50, train_loss: 0.0170, train_auroc: 0.930, val_loss: 0.0058, val_auroc: 0.565\n",
      "Epoch 28 / 50, train_loss: 0.0170, train_auroc: 0.931, val_loss: 0.0058, val_auroc: 0.571\n",
      "Epoch 29 / 50, train_loss: 0.0169, train_auroc: 0.932, val_loss: 0.0056, val_auroc: 0.574\n",
      "Epoch 30 / 50, train_loss: 0.0170, train_auroc: 0.933, val_loss: 0.0057, val_auroc: 0.582\n",
      "Epoch 31 / 50, train_loss: 0.0169, train_auroc: 0.932, val_loss: 0.0058, val_auroc: 0.599\n",
      "Epoch 32 / 50, train_loss: 0.0169, train_auroc: 0.932, val_loss: 0.0057, val_auroc: 0.572\n",
      "Epoch 33 / 50, train_loss: 0.0169, train_auroc: 0.932, val_loss: 0.0060, val_auroc: 0.588\n",
      "Epoch 34 / 50, train_loss: 0.0169, train_auroc: 0.932, val_loss: 0.0058, val_auroc: 0.584\n",
      "Epoch 35 / 50, train_loss: 0.0170, train_auroc: 0.932, val_loss: 0.0057, val_auroc: 0.573\n",
      "Epoch 36 / 50, train_loss: 0.0169, train_auroc: 0.932, val_loss: 0.0057, val_auroc: 0.582\n",
      "Epoch 37 / 50, train_loss: 0.0169, train_auroc: 0.932, val_loss: 0.0058, val_auroc: 0.580\n",
      "Epoch 38 / 50, train_loss: 0.0169, train_auroc: 0.932, val_loss: 0.0057, val_auroc: 0.583\n",
      "Epoch 39 / 50, train_loss: 0.0168, train_auroc: 0.932, val_loss: 0.0057, val_auroc: 0.596\n",
      "Epoch 40 / 50, train_loss: 0.0169, train_auroc: 0.932, val_loss: 0.0056, val_auroc: 0.603\n",
      "Epoch 41 / 50, train_loss: 0.0169, train_auroc: 0.932, val_loss: 0.0057, val_auroc: 0.593\n",
      "Epoch 42 / 50, train_loss: 0.0169, train_auroc: 0.932, val_loss: 0.0058, val_auroc: 0.587\n",
      "Epoch 43 / 50, train_loss: 0.0169, train_auroc: 0.932, val_loss: 0.0057, val_auroc: 0.595\n",
      "Epoch 44 / 50, train_loss: 0.0169, train_auroc: 0.934, val_loss: 0.0057, val_auroc: 0.583\n",
      "Epoch 45 / 50, train_loss: 0.0168, train_auroc: 0.934, val_loss: 0.0056, val_auroc: 0.596\n",
      "Epoch 46 / 50, train_loss: 0.0169, train_auroc: 0.934, val_loss: 0.0057, val_auroc: 0.597\n",
      "Epoch 47 / 50, train_loss: 0.0168, train_auroc: 0.934, val_loss: 0.0057, val_auroc: 0.598\n",
      "Epoch 48 / 50, train_loss: 0.0169, train_auroc: 0.934, val_loss: 0.0057, val_auroc: 0.593\n",
      "Epoch 49 / 50, train_loss: 0.0168, train_auroc: 0.934, val_loss: 0.0058, val_auroc: 0.607\n",
      "Epoch 50 / 50, train_loss: 0.0168, train_auroc: 0.934, val_loss: 0.0056, val_auroc: 0.598\n",
      "Test AUROC: 0.588\n"
     ]
    }
   ],
   "source": [
    "model_1, train_results_1, test_results_1 = train_test_model('config_toy.json')"
   ]
  },
  {
   "cell_type": "code",
   "execution_count": 5,
   "metadata": {},
   "outputs": [
    {
     "name": "stdout",
     "output_type": "stream",
     "text": [
      "Epoch 1 / 50, train_loss: 0.0250, train_auroc: 0.492, val_loss: 0.0061, val_auroc: 0.455\n",
      "Epoch 2 / 50, train_loss: 0.0203, train_auroc: 0.732, val_loss: 0.0061, val_auroc: 0.490\n",
      "Epoch 3 / 50, train_loss: 0.0190, train_auroc: 0.802, val_loss: 0.0059, val_auroc: 0.494\n",
      "Epoch 4 / 50, train_loss: 0.0183, train_auroc: 0.841, val_loss: 0.0058, val_auroc: 0.529\n",
      "Epoch 5 / 50, train_loss: 0.0179, train_auroc: 0.867, val_loss: 0.0060, val_auroc: 0.526\n",
      "Epoch 6 / 50, train_loss: 0.0177, train_auroc: 0.889, val_loss: 0.0060, val_auroc: 0.545\n",
      "Epoch 7 / 50, train_loss: 0.0177, train_auroc: 0.892, val_loss: 0.0062, val_auroc: 0.536\n",
      "Epoch 8 / 50, train_loss: 0.0173, train_auroc: 0.903, val_loss: 0.0058, val_auroc: 0.552\n",
      "Epoch 9 / 50, train_loss: 0.0173, train_auroc: 0.904, val_loss: 0.0060, val_auroc: 0.554\n",
      "Epoch 10 / 50, train_loss: 0.0172, train_auroc: 0.906, val_loss: 0.0058, val_auroc: 0.562\n",
      "Epoch 11 / 50, train_loss: 0.0173, train_auroc: 0.904, val_loss: 0.0059, val_auroc: 0.556\n",
      "Epoch 12 / 50, train_loss: 0.0171, train_auroc: 0.906, val_loss: 0.0060, val_auroc: 0.564\n",
      "Epoch 13 / 50, train_loss: 0.0173, train_auroc: 0.909, val_loss: 0.0057, val_auroc: 0.552\n",
      "Epoch 14 / 50, train_loss: 0.0173, train_auroc: 0.914, val_loss: 0.0058, val_auroc: 0.552\n",
      "Epoch 15 / 50, train_loss: 0.0171, train_auroc: 0.917, val_loss: 0.0057, val_auroc: 0.558\n",
      "Epoch 16 / 50, train_loss: 0.0171, train_auroc: 0.916, val_loss: 0.0058, val_auroc: 0.544\n",
      "Epoch 17 / 50, train_loss: 0.0171, train_auroc: 0.917, val_loss: 0.0061, val_auroc: 0.537\n",
      "Epoch 18 / 50, train_loss: 0.0171, train_auroc: 0.919, val_loss: 0.0061, val_auroc: 0.535\n",
      "Epoch 19 / 50, train_loss: 0.0170, train_auroc: 0.919, val_loss: 0.0058, val_auroc: 0.545\n",
      "Epoch 20 / 50, train_loss: 0.0171, train_auroc: 0.919, val_loss: 0.0060, val_auroc: 0.552\n",
      "Epoch 21 / 50, train_loss: 0.0171, train_auroc: 0.920, val_loss: 0.0058, val_auroc: 0.564\n",
      "Epoch 22 / 50, train_loss: 0.0170, train_auroc: 0.920, val_loss: 0.0059, val_auroc: 0.565\n",
      "Epoch 23 / 50, train_loss: 0.0170, train_auroc: 0.920, val_loss: 0.0058, val_auroc: 0.558\n",
      "Epoch 24 / 50, train_loss: 0.0169, train_auroc: 0.920, val_loss: 0.0060, val_auroc: 0.581\n",
      "Epoch 25 / 50, train_loss: 0.0170, train_auroc: 0.919, val_loss: 0.0059, val_auroc: 0.563\n",
      "Epoch 26 / 50, train_loss: 0.0170, train_auroc: 0.920, val_loss: 0.0061, val_auroc: 0.537\n",
      "Epoch 27 / 50, train_loss: 0.0170, train_auroc: 0.919, val_loss: 0.0060, val_auroc: 0.551\n",
      "Epoch 28 / 50, train_loss: 0.0170, train_auroc: 0.919, val_loss: 0.0061, val_auroc: 0.545\n",
      "Epoch 29 / 50, train_loss: 0.0169, train_auroc: 0.920, val_loss: 0.0059, val_auroc: 0.543\n",
      "Epoch 30 / 50, train_loss: 0.0170, train_auroc: 0.920, val_loss: 0.0059, val_auroc: 0.543\n",
      "Epoch 31 / 50, train_loss: 0.0170, train_auroc: 0.920, val_loss: 0.0060, val_auroc: 0.553\n",
      "Epoch 32 / 50, train_loss: 0.0170, train_auroc: 0.920, val_loss: 0.0061, val_auroc: 0.569\n",
      "Epoch 33 / 50, train_loss: 0.0170, train_auroc: 0.920, val_loss: 0.0061, val_auroc: 0.556\n",
      "Epoch 34 / 50, train_loss: 0.0170, train_auroc: 0.920, val_loss: 0.0061, val_auroc: 0.567\n",
      "Epoch 35 / 50, train_loss: 0.0170, train_auroc: 0.919, val_loss: 0.0061, val_auroc: 0.563\n",
      "Epoch 36 / 50, train_loss: 0.0170, train_auroc: 0.921, val_loss: 0.0060, val_auroc: 0.562\n",
      "Epoch 37 / 50, train_loss: 0.0170, train_auroc: 0.922, val_loss: 0.0059, val_auroc: 0.582\n",
      "Epoch 38 / 50, train_loss: 0.0170, train_auroc: 0.922, val_loss: 0.0059, val_auroc: 0.577\n",
      "Epoch 39 / 50, train_loss: 0.0170, train_auroc: 0.921, val_loss: 0.0059, val_auroc: 0.565\n",
      "Epoch 40 / 50, train_loss: 0.0170, train_auroc: 0.921, val_loss: 0.0061, val_auroc: 0.561\n",
      "Epoch 41 / 50, train_loss: 0.0169, train_auroc: 0.922, val_loss: 0.0060, val_auroc: 0.555\n",
      "Epoch 42 / 50, train_loss: 0.0169, train_auroc: 0.921, val_loss: 0.0058, val_auroc: 0.557\n",
      "Epoch 43 / 50, train_loss: 0.0170, train_auroc: 0.921, val_loss: 0.0058, val_auroc: 0.574\n",
      "Epoch 44 / 50, train_loss: 0.0169, train_auroc: 0.922, val_loss: 0.0060, val_auroc: 0.553\n",
      "Epoch 45 / 50, train_loss: 0.0169, train_auroc: 0.922, val_loss: 0.0059, val_auroc: 0.561\n",
      "Epoch 46 / 50, train_loss: 0.0169, train_auroc: 0.922, val_loss: 0.0061, val_auroc: 0.550\n",
      "Epoch 47 / 50, train_loss: 0.0169, train_auroc: 0.922, val_loss: 0.0059, val_auroc: 0.564\n",
      "Epoch 48 / 50, train_loss: 0.0169, train_auroc: 0.921, val_loss: 0.0060, val_auroc: 0.572\n",
      "Epoch 49 / 50, train_loss: 0.0169, train_auroc: 0.922, val_loss: 0.0060, val_auroc: 0.566\n",
      "Epoch 50 / 50, train_loss: 0.0169, train_auroc: 0.922, val_loss: 0.0059, val_auroc: 0.562\n",
      "Test AUROC: 0.600\n"
     ]
    }
   ],
   "source": [
    "model_2, train_results_2, test_results_2 = train_test_model('config_toy_2.json')"
   ]
  },
  {
   "cell_type": "code",
   "execution_count": null,
   "metadata": {},
   "outputs": [],
   "source": []
  }
 ],
 "metadata": {
  "kernelspec": {
   "display_name": "dl",
   "language": "python",
   "name": "dl"
  },
  "language_info": {
   "codemirror_mode": {
    "name": "ipython",
    "version": 3
   },
   "file_extension": ".py",
   "mimetype": "text/x-python",
   "name": "python",
   "nbconvert_exporter": "python",
   "pygments_lexer": "ipython3",
   "version": "3.8.6"
  }
 },
 "nbformat": 4,
 "nbformat_minor": 4
}
