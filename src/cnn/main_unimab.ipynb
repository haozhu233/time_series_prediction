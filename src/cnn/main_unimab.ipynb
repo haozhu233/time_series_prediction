{
 "cells": [
  {
   "cell_type": "code",
   "execution_count": 1,
   "metadata": {},
   "outputs": [],
   "source": [
    "from trainer import train_test_model"
   ]
  },
  {
   "cell_type": "code",
   "execution_count": 3,
   "metadata": {},
   "outputs": [
    {
     "name": "stdout",
     "output_type": "stream",
     "text": [
      "Epoch 1 / 50, train_loss: 0.0171, train_auroc: 0.777, val_loss: 0.0041, val_auroc: 0.833\n",
      "Epoch 2 / 50, train_loss: 0.0162, train_auroc: 0.847, val_loss: 0.0040, val_auroc: 0.855\n",
      "Epoch 3 / 50, train_loss: 0.0158, train_auroc: 0.862, val_loss: 0.0039, val_auroc: 0.862\n",
      "Epoch 4 / 50, train_loss: 0.0155, train_auroc: 0.871, val_loss: 0.0038, val_auroc: 0.876\n",
      "Epoch 5 / 50, train_loss: 0.0152, train_auroc: 0.878, val_loss: 0.0038, val_auroc: 0.874\n",
      "Epoch 6 / 50, train_loss: 0.0150, train_auroc: 0.885, val_loss: 0.0037, val_auroc: 0.889\n",
      "Epoch 7 / 50, train_loss: 0.0148, train_auroc: 0.888, val_loss: 0.0037, val_auroc: 0.889\n",
      "Epoch 8 / 50, train_loss: 0.0146, train_auroc: 0.897, val_loss: 0.0037, val_auroc: 0.900\n",
      "Epoch 9 / 50, train_loss: 0.0144, train_auroc: 0.900, val_loss: 0.0036, val_auroc: 0.904\n",
      "Epoch 10 / 50, train_loss: 0.0142, train_auroc: 0.906, val_loss: 0.0036, val_auroc: 0.911\n",
      "Epoch 11 / 50, train_loss: 0.0140, train_auroc: 0.910, val_loss: 0.0035, val_auroc: 0.912\n",
      "Epoch 12 / 50, train_loss: 0.0139, train_auroc: 0.909, val_loss: 0.0035, val_auroc: 0.926\n",
      "Epoch 13 / 50, train_loss: 0.0137, train_auroc: 0.922, val_loss: 0.0034, val_auroc: 0.927\n",
      "Epoch 14 / 50, train_loss: 0.0135, train_auroc: 0.934, val_loss: 0.0034, val_auroc: 0.941\n",
      "Epoch 15 / 50, train_loss: 0.0133, train_auroc: 0.943, val_loss: 0.0033, val_auroc: 0.946\n",
      "Epoch 16 / 50, train_loss: 0.0131, train_auroc: 0.942, val_loss: 0.0033, val_auroc: 0.947\n",
      "Epoch 17 / 50, train_loss: 0.0129, train_auroc: 0.947, val_loss: 0.0032, val_auroc: 0.953\n",
      "Epoch 18 / 50, train_loss: 0.0128, train_auroc: 0.947, val_loss: 0.0032, val_auroc: 0.950\n",
      "Epoch 19 / 50, train_loss: 0.0126, train_auroc: 0.948, val_loss: 0.0031, val_auroc: 0.961\n",
      "Epoch 20 / 50, train_loss: 0.0125, train_auroc: 0.953, val_loss: 0.0031, val_auroc: 0.956\n",
      "Epoch 21 / 50, train_loss: 0.0123, train_auroc: 0.960, val_loss: 0.0031, val_auroc: 0.952\n",
      "Epoch 22 / 50, train_loss: 0.0121, train_auroc: 0.967, val_loss: 0.0030, val_auroc: 0.971\n",
      "Epoch 23 / 50, train_loss: 0.0120, train_auroc: 0.968, val_loss: 0.0030, val_auroc: 0.967\n",
      "Epoch 24 / 50, train_loss: 0.0118, train_auroc: 0.970, val_loss: 0.0029, val_auroc: 0.970\n",
      "Epoch 25 / 50, train_loss: 0.0117, train_auroc: 0.971, val_loss: 0.0029, val_auroc: 0.975\n",
      "Epoch 26 / 50, train_loss: 0.0116, train_auroc: 0.974, val_loss: 0.0029, val_auroc: 0.976\n",
      "Epoch 27 / 50, train_loss: 0.0116, train_auroc: 0.974, val_loss: 0.0029, val_auroc: 0.976\n",
      "Epoch 28 / 50, train_loss: 0.0115, train_auroc: 0.974, val_loss: 0.0029, val_auroc: 0.974\n",
      "Epoch 29 / 50, train_loss: 0.0115, train_auroc: 0.975, val_loss: 0.0029, val_auroc: 0.974\n",
      "Epoch 30 / 50, train_loss: 0.0115, train_auroc: 0.974, val_loss: 0.0029, val_auroc: 0.976\n",
      "Epoch 31 / 50, train_loss: 0.0115, train_auroc: 0.975, val_loss: 0.0029, val_auroc: 0.975\n",
      "Epoch 32 / 50, train_loss: 0.0115, train_auroc: 0.974, val_loss: 0.0029, val_auroc: 0.975\n",
      "Epoch 33 / 50, train_loss: 0.0115, train_auroc: 0.972, val_loss: 0.0029, val_auroc: 0.974\n",
      "Epoch 34 / 50, train_loss: 0.0114, train_auroc: 0.974, val_loss: 0.0028, val_auroc: 0.975\n",
      "Epoch 35 / 50, train_loss: 0.0115, train_auroc: 0.972, val_loss: 0.0029, val_auroc: 0.974\n",
      "Epoch 36 / 50, train_loss: 0.0114, train_auroc: 0.974, val_loss: 0.0028, val_auroc: 0.976\n",
      "Epoch 37 / 50, train_loss: 0.0114, train_auroc: 0.975, val_loss: 0.0028, val_auroc: 0.976\n",
      "Epoch 38 / 50, train_loss: 0.0113, train_auroc: 0.975, val_loss: 0.0028, val_auroc: 0.976\n",
      "Epoch 39 / 50, train_loss: 0.0113, train_auroc: 0.974, val_loss: 0.0028, val_auroc: 0.976\n",
      "Epoch 40 / 50, train_loss: 0.0114, train_auroc: 0.975, val_loss: 0.0028, val_auroc: 0.978\n",
      "Epoch 41 / 50, train_loss: 0.0113, train_auroc: 0.974, val_loss: 0.0028, val_auroc: 0.979\n",
      "Epoch 42 / 50, train_loss: 0.0113, train_auroc: 0.975, val_loss: 0.0028, val_auroc: 0.978\n",
      "Epoch 43 / 50, train_loss: 0.0113, train_auroc: 0.975, val_loss: 0.0028, val_auroc: 0.976\n",
      "Epoch 44 / 50, train_loss: 0.0113, train_auroc: 0.973, val_loss: 0.0028, val_auroc: 0.975\n",
      "Epoch 45 / 50, train_loss: 0.0113, train_auroc: 0.974, val_loss: 0.0028, val_auroc: 0.975\n",
      "Epoch 46 / 50, train_loss: 0.0113, train_auroc: 0.974, val_loss: 0.0028, val_auroc: 0.975\n",
      "Epoch 47 / 50, train_loss: 0.0112, train_auroc: 0.974, val_loss: 0.0028, val_auroc: 0.975\n",
      "Epoch 48 / 50, train_loss: 0.0112, train_auroc: 0.974, val_loss: 0.0028, val_auroc: 0.975\n",
      "Epoch 49 / 50, train_loss: 0.0112, train_auroc: 0.974, val_loss: 0.0028, val_auroc: 0.975\n",
      "Epoch 50 / 50, train_loss: 0.0112, train_auroc: 0.976, val_loss: 0.0028, val_auroc: 0.975\n",
      "Test AUROC: 0.889\n"
     ]
    }
   ],
   "source": [
    "model, train_results, test_results = train_test_model('config_unimab.json')"
   ]
  }
 ],
 "metadata": {
  "kernelspec": {
   "display_name": "dl",
   "language": "python",
   "name": "dl"
  },
  "language_info": {
   "codemirror_mode": {
    "name": "ipython",
    "version": 3
   },
   "file_extension": ".py",
   "mimetype": "text/x-python",
   "name": "python",
   "nbconvert_exporter": "python",
   "pygments_lexer": "ipython3",
   "version": "3.8.6"
  }
 },
 "nbformat": 4,
 "nbformat_minor": 4
}
