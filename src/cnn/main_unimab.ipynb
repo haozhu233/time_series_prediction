{
 "cells": [
  {
   "cell_type": "code",
   "execution_count": 1,
   "metadata": {},
   "outputs": [],
   "source": [
    "from trainer import train_test_model"
   ]
  },
  {
   "cell_type": "code",
   "execution_count": 2,
   "metadata": {},
   "outputs": [
    {
     "name": "stdout",
     "output_type": "stream",
     "text": [
      "Epoch 1 / 50, train_loss: 0.0136, train_auroc: 0.912, val_loss: 0.0022, val_auroc: 0.982\n",
      "Epoch 2 / 50, train_loss: 0.0078, train_auroc: 0.982, val_loss: 0.0015, val_auroc: 0.995\n",
      "Epoch 3 / 50, train_loss: 0.0053, train_auroc: 0.995, val_loss: 0.0010, val_auroc: 0.998\n",
      "Epoch 4 / 50, train_loss: 0.0039, train_auroc: 0.998, val_loss: 0.0008, val_auroc: 0.998\n",
      "Epoch 5 / 50, train_loss: 0.0028, train_auroc: 1.000, val_loss: 0.0006, val_auroc: 0.998\n",
      "Epoch 6 / 50, train_loss: 0.0022, train_auroc: 1.000, val_loss: 0.0005, val_auroc: 0.999\n",
      "Epoch 7 / 50, train_loss: 0.0018, train_auroc: 1.000, val_loss: 0.0004, val_auroc: 1.000\n",
      "Epoch 8 / 50, train_loss: 0.0014, train_auroc: 1.000, val_loss: 0.0003, val_auroc: 1.000\n",
      "Epoch 9 / 50, train_loss: 0.0011, train_auroc: 1.000, val_loss: 0.0003, val_auroc: 1.000\n",
      "Epoch 10 / 50, train_loss: 0.0009, train_auroc: 1.000, val_loss: 0.0003, val_auroc: 0.999\n",
      "Epoch 11 / 50, train_loss: 0.0008, train_auroc: 1.000, val_loss: 0.0002, val_auroc: 1.000\n",
      "Epoch 12 / 50, train_loss: 0.0007, train_auroc: 1.000, val_loss: 0.0003, val_auroc: 0.999\n",
      "Epoch 13 / 50, train_loss: 0.0006, train_auroc: 1.000, val_loss: 0.0002, val_auroc: 1.000\n",
      "Epoch 14 / 50, train_loss: 0.0005, train_auroc: 1.000, val_loss: 0.0002, val_auroc: 0.999\n",
      "Epoch 15 / 50, train_loss: 0.0005, train_auroc: 1.000, val_loss: 0.0002, val_auroc: 1.000\n",
      "Epoch 16 / 50, train_loss: 0.0004, train_auroc: 1.000, val_loss: 0.0002, val_auroc: 1.000\n",
      "Epoch 17 / 50, train_loss: 0.0005, train_auroc: 1.000, val_loss: 0.0002, val_auroc: 0.999\n",
      "Epoch 18 / 50, train_loss: 0.0005, train_auroc: 1.000, val_loss: 0.0002, val_auroc: 0.999\n",
      "Epoch 19 / 50, train_loss: 0.0003, train_auroc: 1.000, val_loss: 0.0002, val_auroc: 0.999\n",
      "Epoch 20 / 50, train_loss: 0.0003, train_auroc: 1.000, val_loss: 0.0002, val_auroc: 0.999\n",
      "Epoch 21 / 50, train_loss: 0.0004, train_auroc: 1.000, val_loss: 0.0002, val_auroc: 1.000\n",
      "Epoch 22 / 50, train_loss: 0.0004, train_auroc: 1.000, val_loss: 0.0003, val_auroc: 0.998\n",
      "Epoch 23 / 50, train_loss: 0.0002, train_auroc: 1.000, val_loss: 0.0001, val_auroc: 0.999\n",
      "Epoch 24 / 50, train_loss: 0.0003, train_auroc: 1.000, val_loss: 0.0002, val_auroc: 1.000\n",
      "Epoch 25 / 50, train_loss: 0.0003, train_auroc: 1.000, val_loss: 0.0001, val_auroc: 1.000\n",
      "Epoch 26 / 50, train_loss: 0.0002, train_auroc: 1.000, val_loss: 0.0001, val_auroc: 1.000\n",
      "Epoch 27 / 50, train_loss: 0.0002, train_auroc: 1.000, val_loss: 0.0001, val_auroc: 1.000\n",
      "Epoch 28 / 50, train_loss: 0.0001, train_auroc: 1.000, val_loss: 0.0001, val_auroc: 1.000\n",
      "Epoch 29 / 50, train_loss: 0.0002, train_auroc: 1.000, val_loss: 0.0001, val_auroc: 0.999\n",
      "Epoch 30 / 50, train_loss: 0.0001, train_auroc: 1.000, val_loss: 0.0001, val_auroc: 1.000\n",
      "Epoch 31 / 50, train_loss: 0.0001, train_auroc: 1.000, val_loss: 0.0001, val_auroc: 1.000\n",
      "Epoch 32 / 50, train_loss: 0.0001, train_auroc: 1.000, val_loss: 0.0001, val_auroc: 1.000\n",
      "Epoch 33 / 50, train_loss: 0.0001, train_auroc: 1.000, val_loss: 0.0001, val_auroc: 1.000\n",
      "Epoch 34 / 50, train_loss: 0.0001, train_auroc: 1.000, val_loss: 0.0001, val_auroc: 1.000\n",
      "Epoch 35 / 50, train_loss: 0.0001, train_auroc: 1.000, val_loss: 0.0001, val_auroc: 1.000\n",
      "Epoch 36 / 50, train_loss: 0.0001, train_auroc: 1.000, val_loss: 0.0001, val_auroc: 1.000\n",
      "Epoch 37 / 50, train_loss: 0.0001, train_auroc: 1.000, val_loss: 0.0001, val_auroc: 1.000\n",
      "Epoch 38 / 50, train_loss: 0.0001, train_auroc: 1.000, val_loss: 0.0001, val_auroc: 1.000\n",
      "Epoch 39 / 50, train_loss: 0.0001, train_auroc: 1.000, val_loss: 0.0001, val_auroc: 1.000\n",
      "Epoch 40 / 50, train_loss: 0.0001, train_auroc: 1.000, val_loss: 0.0001, val_auroc: 1.000\n",
      "Epoch 41 / 50, train_loss: 0.0001, train_auroc: 1.000, val_loss: 0.0001, val_auroc: 1.000\n",
      "Epoch 42 / 50, train_loss: 0.0001, train_auroc: 1.000, val_loss: 0.0001, val_auroc: 1.000\n",
      "Epoch 43 / 50, train_loss: 0.0001, train_auroc: 1.000, val_loss: 0.0002, val_auroc: 0.999\n",
      "Epoch 44 / 50, train_loss: 0.0001, train_auroc: 1.000, val_loss: 0.0001, val_auroc: 1.000\n",
      "Epoch 45 / 50, train_loss: 0.0001, train_auroc: 1.000, val_loss: 0.0001, val_auroc: 1.000\n",
      "Epoch 46 / 50, train_loss: 0.0001, train_auroc: 1.000, val_loss: 0.0001, val_auroc: 0.999\n",
      "Epoch 47 / 50, train_loss: 0.0001, train_auroc: 1.000, val_loss: 0.0001, val_auroc: 0.999\n",
      "Epoch 48 / 50, train_loss: 0.0002, train_auroc: 1.000, val_loss: 0.0001, val_auroc: 1.000\n",
      "Epoch 49 / 50, train_loss: 0.0001, train_auroc: 1.000, val_loss: 0.0001, val_auroc: 1.000\n",
      "Epoch 50 / 50, train_loss: 0.0001, train_auroc: 1.000, val_loss: 0.0001, val_auroc: 0.999\n",
      "Test AUROC: 0.905\n"
     ]
    }
   ],
   "source": [
    "model, train_results, test_results = train_test_model('config_unimab.json')"
   ]
  },
  {
   "cell_type": "code",
   "execution_count": null,
   "metadata": {},
   "outputs": [],
   "source": []
  }
 ],
 "metadata": {
  "kernelspec": {
   "display_name": "dl",
   "language": "python",
   "name": "dl"
  },
  "language_info": {
   "codemirror_mode": {
    "name": "ipython",
    "version": 3
   },
   "file_extension": ".py",
   "mimetype": "text/x-python",
   "name": "python",
   "nbconvert_exporter": "python",
   "pygments_lexer": "ipython3",
   "version": "3.8.6"
  }
 },
 "nbformat": 4,
 "nbformat_minor": 4
}
